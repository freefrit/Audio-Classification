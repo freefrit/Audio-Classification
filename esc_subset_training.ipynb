{
  "nbformat": 4,
  "nbformat_minor": 0,
  "metadata": {
    "colab": {
      "name": "esc_subset-training.ipynb",
      "provenance": []
    },
    "kernelspec": {
      "name": "python3",
      "display_name": "Python 3"
    },
    "language_info": {
      "name": "python"
    },
    "accelerator": "GPU"
  },
  "cells": [
    {
      "cell_type": "code",
      "metadata": {
        "colab": {
          "base_uri": "https://localhost:8080/"
        },
        "id": "10pJBo_lAEiv",
        "outputId": "6ec2b138-9f0e-4695-b2cb-89e37bc95383"
      },
      "source": [
        "!nvidia-smi"
      ],
      "execution_count": 1,
      "outputs": [
        {
          "output_type": "stream",
          "text": [
            "Sat Aug 14 18:53:03 2021       \n",
            "+-----------------------------------------------------------------------------+\n",
            "| NVIDIA-SMI 470.42.01    Driver Version: 460.32.03    CUDA Version: 11.2     |\n",
            "|-------------------------------+----------------------+----------------------+\n",
            "| GPU  Name        Persistence-M| Bus-Id        Disp.A | Volatile Uncorr. ECC |\n",
            "| Fan  Temp  Perf  Pwr:Usage/Cap|         Memory-Usage | GPU-Util  Compute M. |\n",
            "|                               |                      |               MIG M. |\n",
            "|===============================+======================+======================|\n",
            "|   0  Tesla T4            Off  | 00000000:00:04.0 Off |                    0 |\n",
            "| N/A   52C    P8    10W /  70W |      0MiB / 15109MiB |      0%      Default |\n",
            "|                               |                      |                  N/A |\n",
            "+-------------------------------+----------------------+----------------------+\n",
            "                                                                               \n",
            "+-----------------------------------------------------------------------------+\n",
            "| Processes:                                                                  |\n",
            "|  GPU   GI   CI        PID   Type   Process name                  GPU Memory |\n",
            "|        ID   ID                                                   Usage      |\n",
            "|=============================================================================|\n",
            "|  No running processes found                                                 |\n",
            "+-----------------------------------------------------------------------------+\n"
          ],
          "name": "stdout"
        }
      ]
    },
    {
      "cell_type": "code",
      "metadata": {
        "colab": {
          "base_uri": "https://localhost:8080/"
        },
        "id": "IVfss4oHA5NT",
        "outputId": "de0c6f48-4866-4ba0-8726-46403005a802"
      },
      "source": [
        "!pip install torchaudio -f https://download.pytorch.org/whl/torch_stable.html"
      ],
      "execution_count": 7,
      "outputs": [
        {
          "output_type": "stream",
          "text": [
            "Looking in links: https://download.pytorch.org/whl/torch_stable.html\n",
            "Collecting torchaudio\n",
            "  Downloading torchaudio-0.9.0-cp37-cp37m-manylinux1_x86_64.whl (1.9 MB)\n",
            "\u001b[K     |████████████████████████████████| 1.9 MB 5.9 MB/s \n",
            "\u001b[?25hRequirement already satisfied: torch==1.9.0 in /usr/local/lib/python3.7/dist-packages (from torchaudio) (1.9.0+cu102)\n",
            "Requirement already satisfied: typing-extensions in /usr/local/lib/python3.7/dist-packages (from torch==1.9.0->torchaudio) (3.7.4.3)\n",
            "Installing collected packages: torchaudio\n",
            "Successfully installed torchaudio-0.9.0\n"
          ],
          "name": "stdout"
        }
      ]
    },
    {
      "cell_type": "code",
      "metadata": {
        "colab": {
          "base_uri": "https://localhost:8080/",
          "height": 108
        },
        "id": "5g3lK_Wa-Twr",
        "outputId": "7d7c9bc1-8490-4770-8ec1-795a1f18ba96"
      },
      "source": [
        "#download dataset\n",
        "import gdown\n",
        "ESC50_url = \"https://drive.google.com/uc?export=download&id=1wyapym3pyPG20ruSgVUBS0XHZmO6IYBX\"\n",
        "\n",
        "output = \"/content/ESC-50-master.zip\"\n",
        "gdown.download(ESC50_url, output,quiet=False)"
      ],
      "execution_count": 2,
      "outputs": [
        {
          "output_type": "stream",
          "text": [
            "Downloading...\n",
            "From: https://drive.google.com/uc?export=download&id=1wyapym3pyPG20ruSgVUBS0XHZmO6IYBX\n",
            "To: /content/ESC-50-master.zip\n",
            "646MB [00:04, 148MB/s]\n"
          ],
          "name": "stderr"
        },
        {
          "output_type": "execute_result",
          "data": {
            "application/vnd.google.colaboratory.intrinsic+json": {
              "type": "string"
            },
            "text/plain": [
              "'/content/ESC-50-master.zip'"
            ]
          },
          "metadata": {
            "tags": []
          },
          "execution_count": 2
        }
      ]
    },
    {
      "cell_type": "code",
      "metadata": {
        "id": "QRt0mrBf70cM"
      },
      "source": [
        "#unzip dataset\n",
        "!unzip -qq ESC-50-master.zip"
      ],
      "execution_count": 3,
      "outputs": []
    },
    {
      "cell_type": "code",
      "metadata": {
        "id": "DVtbeX7R9KmM"
      },
      "source": [
        "import pandas as pd\n",
        "'''\n",
        "esc50_df = []\n",
        "for i in range(10):\n",
        "  esc50_df.append([])\n",
        "'''\n",
        "esc50_dict = {\"fname\" : [], \"label\" : [], \"fold\" : []}\n",
        "csvData = pd.read_csv(\"/content/ESC-50-master/meta/esc50.csv\")\n",
        "\n",
        "for i in range(0, len(csvData)):\n",
        "  if csvData.iloc[i, 2] == 42:   #class siren\n",
        "    esc50_dict[\"fname\"].append(csvData.iloc[i, 0])\n",
        "    esc50_dict[\"label\"].append(0)\n",
        "    esc50_dict[\"fold\"].append(csvData.iloc[i, 1])\n",
        "\n",
        "  elif csvData.iloc[i, 2] == 37:  #class clock_alarm\n",
        "    esc50_dict[\"fname\"].append(csvData.iloc[i, 0])\n",
        "    esc50_dict[\"label\"].append(1)\n",
        "    esc50_dict[\"fold\"].append(csvData.iloc[i, 1])\n",
        "\n",
        "  elif csvData.iloc[i, 2] == 25:  #class footsteps\n",
        "    esc50_dict[\"fname\"].append(csvData.iloc[i, 0])\n",
        "    esc50_dict[\"label\"].append(2)\n",
        "    esc50_dict[\"fold\"].append(csvData.iloc[i, 1])\n",
        "\n",
        "  elif csvData.iloc[i, 2] == 20:  #class crying_baby\n",
        "    esc50_dict[\"fname\"].append(csvData.iloc[i, 0])\n",
        "    esc50_dict[\"label\"].append(3)\n",
        "    esc50_dict[\"fold\"].append(csvData.iloc[i, 1])\n",
        "\n",
        "  elif csvData.iloc[i, 2] == 30:  #class door_knock\n",
        "    esc50_dict[\"fname\"].append(csvData.iloc[i, 0])\n",
        "    esc50_dict[\"label\"].append(4)\n",
        "    esc50_dict[\"fold\"].append(csvData.iloc[i, 1])\n",
        "\n",
        "  elif csvData.iloc[i, 2] == 22:  #class clapping\n",
        "    esc50_dict[\"fname\"].append(csvData.iloc[i, 0])\n",
        "    esc50_dict[\"label\"].append(5)\n",
        "    esc50_dict[\"fold\"].append(csvData.iloc[i, 1])\n",
        "\n",
        "  elif csvData.iloc[i, 2] == 24:  #class coughing\n",
        "    esc50_dict[\"fname\"].append(csvData.iloc[i, 0])\n",
        "    esc50_dict[\"label\"].append(6)\n",
        "    esc50_dict[\"fold\"].append(csvData.iloc[i, 1])\n",
        "\n",
        "  elif csvData.iloc[i, 2] == 0:  #class dog\n",
        "    esc50_dict[\"fname\"].append(csvData.iloc[i, 0])\n",
        "    esc50_dict[\"label\"].append(7)\n",
        "    esc50_dict[\"fold\"].append(csvData.iloc[i, 1])\n",
        "\n",
        "  elif csvData.iloc[i, 2] == 44:  #class engine\n",
        "    esc50_dict[\"fname\"].append(csvData.iloc[i, 0])\n",
        "    esc50_dict[\"label\"].append(8)\n",
        "    esc50_dict[\"fold\"].append(csvData.iloc[i, 1])\n",
        "\n",
        "  elif csvData.iloc[i, 2] == 40:  #class helicopter\n",
        "    esc50_dict[\"fname\"].append(csvData.iloc[i, 0])\n",
        "    esc50_dict[\"label\"].append(9)\n",
        "    esc50_dict[\"fold\"].append(csvData.iloc[i, 1])"
      ],
      "execution_count": 4,
      "outputs": []
    },
    {
      "cell_type": "code",
      "metadata": {
        "colab": {
          "base_uri": "https://localhost:8080/"
        },
        "id": "jRZapA_S7GWk",
        "outputId": "757dd766-4145-4ab2-ccd8-a69f903af925"
      },
      "source": [
        "print(\"num of data: \", len(esc50_dict[\"fname\"]))\n",
        "print(\"file name: \", esc50_dict[\"fname\"][0])\n",
        "print(\"class idx: \", esc50_dict[\"label\"][0])\n",
        "print(\"fold: \", esc50_dict[\"fold\"][0])"
      ],
      "execution_count": 5,
      "outputs": [
        {
          "output_type": "stream",
          "text": [
            "num of data:  400\n",
            "file name:  1-100032-A-0.wav\n",
            "class idx:  7\n",
            "fold:  1\n"
          ],
          "name": "stdout"
        }
      ]
    },
    {
      "cell_type": "code",
      "metadata": {
        "id": "Ui0fOPq47kTL"
      },
      "source": [
        "import math, random\n",
        "import torch\n",
        "import torchaudio\n",
        "from torchaudio import transforms\n",
        "from IPython.display import Audio\n",
        "\n",
        "class AudioUtil():\n",
        "  # ----------------------------\n",
        "  # Load an audio file. Return the signal as a tensor and the sample rate\n",
        "  # ----------------------------\n",
        "  @staticmethod\n",
        "  def open(audio_file):\n",
        "    sig, sr = torchaudio.load(audio_file)\n",
        "    return (sig, sr)\n",
        "\n",
        "  # ----------------------------\n",
        "  # Convert the given audio to the desired number of channels\n",
        "  # ----------------------------\n",
        "  @staticmethod\n",
        "  def rechannel(aud, new_channel):\n",
        "    sig, sr = aud\n",
        "\n",
        "    if (sig.shape[0] == new_channel):\n",
        "      # Nothing to do\n",
        "      return aud\n",
        "\n",
        "    if (new_channel == 1):\n",
        "      # Convert from stereo to mono by selecting only the first channel\n",
        "      resig = sig[:1, :]\n",
        "    else:\n",
        "      # Convert from mono to stereo by duplicating the first channel\n",
        "      resig = torch.cat([sig, sig])\n",
        "\n",
        "    return ((resig, sr))\n",
        "\n",
        "  # ----------------------------\n",
        "  # Since Resample applies to a single channel, we resample one channel at a time\n",
        "  # ----------------------------\n",
        "  @staticmethod\n",
        "  def resample(aud, newsr):\n",
        "    sig, sr = aud\n",
        "\n",
        "    if (sr == newsr):\n",
        "      # Nothing to do\n",
        "      return aud\n",
        "\n",
        "    num_channels = sig.shape[0]\n",
        "    # Resample first channel\n",
        "    resig = torchaudio.transforms.Resample(sr, newsr)(sig[:1,:])\n",
        "    if (num_channels > 1):\n",
        "      # Resample the second channel and merge both channels\n",
        "      retwo = torchaudio.transforms.Resample(sr, newsr)(sig[1:,:])\n",
        "      resig = torch.cat([resig, retwo])\n",
        "\n",
        "    return ((resig, newsr))\n",
        "\n",
        "  # ----------------------------\n",
        "  # Pad (or truncate) the signal to a fixed length 'max_ms' in milliseconds\n",
        "  # ----------------------------\n",
        "  @staticmethod\n",
        "  def pad_trunc(aud, max_ms):\n",
        "    sig, sr = aud\n",
        "    num_rows, sig_len = sig.shape\n",
        "    max_len = sr//1000 * max_ms\n",
        "\n",
        "    if (sig_len > max_len):\n",
        "      # Truncate the signal to the given length\n",
        "      sig = sig[:,:max_len]\n",
        "\n",
        "    elif (sig_len < max_len):\n",
        "      # Length of padding to add at the beginning and end of the signal\n",
        "      pad_begin_len = random.randint(0, max_len - sig_len)\n",
        "      pad_end_len = max_len - sig_len - pad_begin_len\n",
        "\n",
        "      # Pad with 0s\n",
        "      pad_begin = torch.zeros((num_rows, pad_begin_len))\n",
        "      pad_end = torch.zeros((num_rows, pad_end_len))\n",
        "\n",
        "      sig = torch.cat((pad_begin, sig, pad_end), 1)\n",
        "      \n",
        "    return (sig, sr)\n",
        "\n",
        "  # ----------------------------\n",
        "  # Shifts the signal to the left or right by some percent. Values at the end\n",
        "  # are 'wrapped around' to the start of the transformed signal.\n",
        "  # ----------------------------\n",
        "  @staticmethod\n",
        "  def time_shift(aud, shift_limit):\n",
        "    sig,sr = aud\n",
        "    _, sig_len = sig.shape\n",
        "    shift_amt = int(random.random() * shift_limit * sig_len)\n",
        "    return (sig.roll(shift_amt), sr)\n",
        "\n",
        "  # ----------------------------\n",
        "  # Generate a Spectrogram\n",
        "  # ----------------------------\n",
        "  @staticmethod\n",
        "  def spectro_gram(aud, n_mels=64, n_fft=1024, hop_len=None):\n",
        "    sig,sr = aud\n",
        "    top_db = 80\n",
        "\n",
        "    # spec has shape [channel, n_mels, time], where channel is mono, stereo etc\n",
        "    spec = transforms.MelSpectrogram(sr, n_fft=n_fft, hop_length=hop_len, n_mels=n_mels)(sig)\n",
        "\n",
        "    # Convert to decibels\n",
        "    spec = transforms.AmplitudeToDB(top_db=top_db)(spec)\n",
        "    return (spec)\n",
        "\n",
        "  # ----------------------------\n",
        "  # Augment the Spectrogram by masking out some sections of it in both the frequency\n",
        "  # dimension (ie. horizontal bars) and the time dimension (vertical bars) to prevent\n",
        "  # overfitting and to help the model generalise better. The masked sections are\n",
        "  # replaced with the mean value.\n",
        "  # ----------------------------\n",
        "  @staticmethod\n",
        "  def spectro_augment(spec, max_mask_pct=0.1, n_freq_masks=1, n_time_masks=1):\n",
        "    _, n_mels, n_steps = spec.shape\n",
        "    mask_value = spec.mean()\n",
        "    aug_spec = spec\n",
        "\n",
        "    freq_mask_param = max_mask_pct * n_mels\n",
        "    for _ in range(n_freq_masks):\n",
        "      aug_spec = transforms.FrequencyMasking(freq_mask_param)(aug_spec, mask_value)\n",
        "\n",
        "    time_mask_param = max_mask_pct * n_steps\n",
        "    for _ in range(n_time_masks):\n",
        "      aug_spec = transforms.TimeMasking(time_mask_param)(aug_spec, mask_value)\n",
        "\n",
        "    return aug_spec"
      ],
      "execution_count": 8,
      "outputs": []
    },
    {
      "cell_type": "code",
      "metadata": {
        "id": "ZLg7uSD48vJj"
      },
      "source": [
        "from torch.utils.data import DataLoader, Dataset, random_split\n",
        "import torchaudio\n",
        "\n",
        "# ----------------------------\n",
        "# Sound Dataset\n",
        "# ----------------------------\n",
        "class SoundDS(Dataset):\n",
        "  def __init__(self, fdict, data_path):\n",
        "    self.fdict = fdict\n",
        "    self.data_path = str(data_path)\n",
        "    self.duration = 4000\n",
        "    self.sr = 44100\n",
        "    self.channel = 2\n",
        "    self.shift_pct = 0.4\n",
        "            \n",
        "  # ----------------------------\n",
        "  # Number of items in dataset\n",
        "  # ----------------------------\n",
        "  def __len__(self):\n",
        "    return len(self.fdict[\"fname\"])   \n",
        "    \n",
        "  # ----------------------------\n",
        "  # Get i'th item in dataset\n",
        "  # ----------------------------\n",
        "  def __getitem__(self, idx):\n",
        "    # Absolute file path of the audio file - concatenate the audio directory with\n",
        "    # the relative path\n",
        "    audio_file = self.data_path + self.fdict[\"fname\"][idx]\n",
        "    # Get the Class ID\n",
        "    class_id = self.fdict[\"label\"][idx]\n",
        "\n",
        "    aud = AudioUtil.open(audio_file)\n",
        "    # Some sounds have a higher sample rate, or fewer channels compared to the\n",
        "    # majority. So make all sounds have the same number of channels and same \n",
        "    # sample rate. Unless the sample rate is the same, the pad_trunc will still\n",
        "    # result in arrays of different lengths, even though the sound duration is\n",
        "    # the same.\n",
        "    reaud = AudioUtil.resample(aud, self.sr)\n",
        "    rechan = AudioUtil.rechannel(reaud, self.channel)\n",
        "\n",
        "    dur_aud = AudioUtil.pad_trunc(rechan, self.duration)\n",
        "    shift_aud = AudioUtil.time_shift(dur_aud, self.shift_pct)\n",
        "    sgram = AudioUtil.spectro_gram(shift_aud, n_mels=64, n_fft=1024, hop_len=None)\n",
        "    aug_sgram = AudioUtil.spectro_augment(sgram, max_mask_pct=0.1, n_freq_masks=2, n_time_masks=2)\n",
        "\n",
        "    return aug_sgram, class_id"
      ],
      "execution_count": 18,
      "outputs": []
    },
    {
      "cell_type": "code",
      "metadata": {
        "id": "s563jKs78zZy"
      },
      "source": [
        "from torch.utils.data import random_split\n",
        "\n",
        "#data_path = '/content/UrbanSound8K/audio'\n",
        "data_path = \"/content/ESC-50-master/audio/\"\n",
        "\n",
        "myds = SoundDS(esc50_dict, data_path)\n",
        "\n",
        "# Random split of 80:20 between training and validation\n",
        "num_items = len(myds)\n",
        "num_train = round(num_items * 0.8)\n",
        "num_val = num_items - num_train\n",
        "train_ds, val_ds = random_split(myds, [num_train, num_val])\n",
        "\n",
        "# Create training and validation data loaders\n",
        "train_dl = torch.utils.data.DataLoader(train_ds, batch_size=16, shuffle=True)\n",
        "val_dl = torch.utils.data.DataLoader(val_ds, batch_size=16, shuffle=False)"
      ],
      "execution_count": 19,
      "outputs": []
    },
    {
      "cell_type": "code",
      "metadata": {
        "colab": {
          "base_uri": "https://localhost:8080/"
        },
        "id": "qe-fpSBB_d2B",
        "outputId": "51450c4e-9c49-4c97-d956-ac2a63aa0919"
      },
      "source": [
        "import torch.nn as nn\n",
        "import torch.nn.functional as F\n",
        "from torch.nn import init\n",
        "\n",
        "# ----------------------------\n",
        "# Audio Classification Model\n",
        "# ----------------------------\n",
        "class AudioClassifier (nn.Module):\n",
        "    # ----------------------------\n",
        "    # Build the model architecture\n",
        "    # ----------------------------\n",
        "    def __init__(self):\n",
        "        super().__init__()\n",
        "        conv_layers = []\n",
        "\n",
        "        # First Convolution Block with Relu and Batch Norm. Use Kaiming Initialization\n",
        "        self.conv1 = nn.Conv2d(2, 8, kernel_size=(5, 5), stride=(2, 2), padding=(2, 2))\n",
        "        self.relu1 = nn.ReLU()\n",
        "        self.bn1 = nn.BatchNorm2d(8)\n",
        "        init.kaiming_normal_(self.conv1.weight, a=0.1)\n",
        "        self.conv1.bias.data.zero_()\n",
        "        conv_layers += [self.conv1, self.relu1, self.bn1]\n",
        "\n",
        "        # Second Convolution Block\n",
        "        self.conv2 = nn.Conv2d(8, 16, kernel_size=(3, 3), stride=(2, 2), padding=(1, 1))\n",
        "        self.relu2 = nn.ReLU()\n",
        "        self.bn2 = nn.BatchNorm2d(16)\n",
        "        init.kaiming_normal_(self.conv2.weight, a=0.1)\n",
        "        self.conv2.bias.data.zero_()\n",
        "        conv_layers += [self.conv2, self.relu2, self.bn2]\n",
        "\n",
        "        # Second Convolution Block\n",
        "        self.conv3 = nn.Conv2d(16, 32, kernel_size=(3, 3), stride=(2, 2), padding=(1, 1))\n",
        "        self.relu3 = nn.ReLU()\n",
        "        self.bn3 = nn.BatchNorm2d(32)\n",
        "        init.kaiming_normal_(self.conv3.weight, a=0.1)\n",
        "        self.conv3.bias.data.zero_()\n",
        "        conv_layers += [self.conv3, self.relu3, self.bn3]\n",
        "\n",
        "        # Second Convolution Block\n",
        "        self.conv4 = nn.Conv2d(32, 64, kernel_size=(3, 3), stride=(2, 2), padding=(1, 1))\n",
        "        self.relu4 = nn.ReLU()\n",
        "        self.bn4 = nn.BatchNorm2d(64)\n",
        "        init.kaiming_normal_(self.conv4.weight, a=0.1)\n",
        "        self.conv4.bias.data.zero_()\n",
        "        conv_layers += [self.conv4, self.relu4, self.bn4]\n",
        "\n",
        "        # Linear Classifier\n",
        "        self.ap = nn.AdaptiveAvgPool2d(output_size=1)\n",
        "        self.lin = nn.Linear(in_features=64, out_features=10)\n",
        "\n",
        "        # Wrap the Convolutional Blocks\n",
        "        self.conv = nn.Sequential(*conv_layers)\n",
        " \n",
        "    # ----------------------------\n",
        "    # Forward pass computations\n",
        "    # ----------------------------\n",
        "    def forward(self, x):\n",
        "        # Run the convolutional blocks\n",
        "        x = self.conv(x)\n",
        "\n",
        "        # Adaptive pool and flatten for input to linear layer\n",
        "        x = self.ap(x)\n",
        "        x = x.view(x.shape[0], -1)\n",
        "\n",
        "        # Linear layer\n",
        "        x = self.lin(x)\n",
        "\n",
        "        # Final output\n",
        "        return x\n",
        "\n",
        "# Create the model and put it on the GPU if available\n",
        "myModel = AudioClassifier()\n",
        "device = torch.device(\"cuda:0\" if torch.cuda.is_available() else \"cpu\")\n",
        "myModel = myModel.to(device)\n",
        "# Check that it is on Cuda\n",
        "next(myModel.parameters()).device"
      ],
      "execution_count": 13,
      "outputs": [
        {
          "output_type": "execute_result",
          "data": {
            "text/plain": [
              "device(type='cuda', index=0)"
            ]
          },
          "metadata": {
            "tags": []
          },
          "execution_count": 13
        }
      ]
    },
    {
      "cell_type": "code",
      "metadata": {
        "id": "2es0Nd9CGSOk"
      },
      "source": [
        "# ----------------------------\n",
        "# Training Loop\n",
        "# ----------------------------\n",
        "def training(model, train_dl, num_epochs):\n",
        "  # Loss Function, Optimizer and Scheduler\n",
        "  criterion = nn.CrossEntropyLoss()\n",
        "  optimizer = torch.optim.Adam(model.parameters(),lr=0.001)\n",
        "  scheduler = torch.optim.lr_scheduler.OneCycleLR(optimizer, max_lr=0.001,\n",
        "                                                steps_per_epoch=int(len(train_dl)),\n",
        "                                                epochs=num_epochs,\n",
        "                                                anneal_strategy='linear')\n",
        "\n",
        "  # Repeat for each epoch\n",
        "  for epoch in range(num_epochs):\n",
        "    running_loss = 0.0\n",
        "    correct_prediction = 0\n",
        "    total_prediction = 0\n",
        "\n",
        "    # Repeat for each batch in the training set\n",
        "    for i, data in enumerate(train_dl):\n",
        "        # Get the input features and target labels, and put them on the GPU\n",
        "        inputs, labels = data[0].to(device), data[1].to(device)\n",
        "\n",
        "        # Normalize the inputs\n",
        "        inputs_m, inputs_s = inputs.mean(), inputs.std()\n",
        "        inputs = (inputs - inputs_m) / inputs_s\n",
        "\n",
        "        # Zero the parameter gradients\n",
        "        optimizer.zero_grad()\n",
        "\n",
        "        # forward + backward + optimize\n",
        "        outputs = model(inputs)\n",
        "        loss = criterion(outputs, labels)\n",
        "        loss.backward()\n",
        "        optimizer.step()\n",
        "        scheduler.step()\n",
        "\n",
        "        # Keep stats for Loss and Accuracy\n",
        "        running_loss += loss.item()\n",
        "\n",
        "        # Get the predicted class with the highest score\n",
        "        _, prediction = torch.max(outputs,1)\n",
        "        # Count of predictions that matched the target label\n",
        "        correct_prediction += (prediction == labels).sum().item()\n",
        "        total_prediction += prediction.shape[0]\n",
        "\n",
        "        #if i % 10 == 0:    # print every 10 mini-batches\n",
        "        #    print('[%d, %5d] loss: %.3f' % (epoch + 1, i + 1, running_loss / 10))\n",
        "    \n",
        "    # Print stats at the end of the epoch\n",
        "    num_batches = len(train_dl)\n",
        "    avg_loss = running_loss / num_batches\n",
        "    acc = correct_prediction/total_prediction\n",
        "    print(f'Epoch: {epoch}, Loss: {avg_loss:.2f}, Accuracy: {acc:.2f}')\n",
        "\n",
        "  print('Finished Training')"
      ],
      "execution_count": 14,
      "outputs": []
    },
    {
      "cell_type": "code",
      "metadata": {
        "colab": {
          "base_uri": "https://localhost:8080/",
          "height": 108
        },
        "id": "csZrjpa3CA7N",
        "outputId": "7d5d1434-16ff-4ebb-9b2f-93f953bac30e"
      },
      "source": [
        "weight_url = \"https://drive.google.com/uc?export=download&id=1c2aj1k3HMwvsLN-LwhCzenE-2OV41Vlk\"\n",
        "gdown.download(weight_url, \"/content/audio40.pth\", quiet=False)"
      ],
      "execution_count": 16,
      "outputs": [
        {
          "output_type": "stream",
          "text": [
            "Downloading...\n",
            "From: https://drive.google.com/uc?export=download&id=1c2aj1k3HMwvsLN-LwhCzenE-2OV41Vlk\n",
            "To: /content/audio40.pth\n",
            "100%|██████████| 115k/115k [00:00<00:00, 29.5MB/s]\n"
          ],
          "name": "stderr"
        },
        {
          "output_type": "execute_result",
          "data": {
            "application/vnd.google.colaboratory.intrinsic+json": {
              "type": "string"
            },
            "text/plain": [
              "'/content/audio40.pth'"
            ]
          },
          "metadata": {
            "tags": []
          },
          "execution_count": 16
        }
      ]
    },
    {
      "cell_type": "code",
      "metadata": {
        "colab": {
          "base_uri": "https://localhost:8080/"
        },
        "id": "jeM6UZFWAEeU",
        "outputId": "8796fbe1-d206-4915-976c-6fbbf12029a7"
      },
      "source": [
        "num_epochs = 20\n",
        "myModel.load_state_dict(torch.load('/content/audio40.pth'))\n",
        "training(myModel, train_dl, num_epochs)"
      ],
      "execution_count": 20,
      "outputs": [
        {
          "output_type": "stream",
          "text": [
            "Epoch: 0, Loss: 5.14, Accuracy: 0.08\n",
            "Epoch: 1, Loss: 4.26, Accuracy: 0.14\n",
            "Epoch: 2, Loss: 3.25, Accuracy: 0.25\n",
            "Epoch: 3, Loss: 2.35, Accuracy: 0.31\n",
            "Epoch: 4, Loss: 1.72, Accuracy: 0.44\n",
            "Epoch: 5, Loss: 1.34, Accuracy: 0.53\n",
            "Epoch: 6, Loss: 1.12, Accuracy: 0.60\n",
            "Epoch: 7, Loss: 1.05, Accuracy: 0.64\n",
            "Epoch: 8, Loss: 0.91, Accuracy: 0.70\n",
            "Epoch: 9, Loss: 0.76, Accuracy: 0.73\n",
            "Epoch: 10, Loss: 0.70, Accuracy: 0.75\n",
            "Epoch: 11, Loss: 0.67, Accuracy: 0.77\n",
            "Epoch: 12, Loss: 0.69, Accuracy: 0.75\n",
            "Epoch: 13, Loss: 0.64, Accuracy: 0.79\n",
            "Epoch: 14, Loss: 0.57, Accuracy: 0.80\n",
            "Epoch: 15, Loss: 0.68, Accuracy: 0.76\n",
            "Epoch: 16, Loss: 0.66, Accuracy: 0.79\n",
            "Epoch: 17, Loss: 0.56, Accuracy: 0.79\n",
            "Epoch: 18, Loss: 0.60, Accuracy: 0.80\n",
            "Epoch: 19, Loss: 0.58, Accuracy: 0.80\n",
            "Finished Training\n"
          ],
          "name": "stdout"
        }
      ]
    },
    {
      "cell_type": "code",
      "metadata": {
        "id": "UrYTiNN9OMYe"
      },
      "source": [
        "torch.save(myModel.state_dict(), '/content/esc_subset-20.pth')"
      ],
      "execution_count": 21,
      "outputs": []
    },
    {
      "cell_type": "code",
      "metadata": {
        "colab": {
          "base_uri": "https://localhost:8080/"
        },
        "id": "vytpX9sQfmw9",
        "outputId": "315d1f6a-add8-4799-a644-44c7a145825e"
      },
      "source": [
        "num_epochs=20\n",
        "training(myModel, train_dl, num_epochs)"
      ],
      "execution_count": 22,
      "outputs": [
        {
          "output_type": "stream",
          "text": [
            "Epoch: 0, Loss: 0.57, Accuracy: 0.81\n",
            "Epoch: 1, Loss: 0.60, Accuracy: 0.78\n",
            "Epoch: 2, Loss: 0.53, Accuracy: 0.80\n",
            "Epoch: 3, Loss: 0.55, Accuracy: 0.81\n",
            "Epoch: 4, Loss: 0.49, Accuracy: 0.82\n",
            "Epoch: 5, Loss: 0.52, Accuracy: 0.83\n",
            "Epoch: 6, Loss: 0.49, Accuracy: 0.82\n",
            "Epoch: 7, Loss: 0.41, Accuracy: 0.85\n",
            "Epoch: 8, Loss: 0.46, Accuracy: 0.85\n",
            "Epoch: 9, Loss: 0.42, Accuracy: 0.86\n",
            "Epoch: 10, Loss: 0.34, Accuracy: 0.88\n",
            "Epoch: 11, Loss: 0.33, Accuracy: 0.89\n",
            "Epoch: 12, Loss: 0.37, Accuracy: 0.88\n",
            "Epoch: 13, Loss: 0.32, Accuracy: 0.89\n",
            "Epoch: 14, Loss: 0.39, Accuracy: 0.86\n",
            "Epoch: 15, Loss: 0.33, Accuracy: 0.90\n",
            "Epoch: 16, Loss: 0.33, Accuracy: 0.90\n",
            "Epoch: 17, Loss: 0.34, Accuracy: 0.89\n",
            "Epoch: 18, Loss: 0.25, Accuracy: 0.92\n",
            "Epoch: 19, Loss: 0.29, Accuracy: 0.92\n",
            "Finished Training\n"
          ],
          "name": "stdout"
        }
      ]
    },
    {
      "cell_type": "code",
      "metadata": {
        "id": "b3qut3qcvsU9"
      },
      "source": [
        "torch.save(myModel.state_dict(), '/content/esc_subset-40.pth')"
      ],
      "execution_count": 23,
      "outputs": []
    },
    {
      "cell_type": "code",
      "metadata": {
        "colab": {
          "base_uri": "https://localhost:8080/"
        },
        "id": "rcNomAR54igF",
        "outputId": "71914c41-a1e1-4e35-d603-cbdf9f7bf641"
      },
      "source": [
        "num_epochs=20\n",
        "training(myModel, train_dl, num_epochs)"
      ],
      "execution_count": 24,
      "outputs": [
        {
          "output_type": "stream",
          "text": [
            "Epoch: 0, Loss: 0.26, Accuracy: 0.94\n",
            "Epoch: 1, Loss: 0.35, Accuracy: 0.89\n",
            "Epoch: 2, Loss: 0.31, Accuracy: 0.89\n",
            "Epoch: 3, Loss: 0.32, Accuracy: 0.92\n",
            "Epoch: 4, Loss: 0.32, Accuracy: 0.89\n",
            "Epoch: 5, Loss: 0.33, Accuracy: 0.89\n",
            "Epoch: 6, Loss: 0.32, Accuracy: 0.90\n",
            "Epoch: 7, Loss: 0.29, Accuracy: 0.89\n",
            "Epoch: 8, Loss: 0.29, Accuracy: 0.90\n",
            "Epoch: 9, Loss: 0.24, Accuracy: 0.94\n",
            "Epoch: 10, Loss: 0.21, Accuracy: 0.94\n",
            "Epoch: 11, Loss: 0.24, Accuracy: 0.94\n",
            "Epoch: 12, Loss: 0.23, Accuracy: 0.94\n",
            "Epoch: 13, Loss: 0.28, Accuracy: 0.92\n",
            "Epoch: 14, Loss: 0.24, Accuracy: 0.92\n",
            "Epoch: 15, Loss: 0.21, Accuracy: 0.95\n",
            "Epoch: 16, Loss: 0.27, Accuracy: 0.91\n",
            "Epoch: 17, Loss: 0.21, Accuracy: 0.94\n",
            "Epoch: 18, Loss: 0.27, Accuracy: 0.90\n",
            "Epoch: 19, Loss: 0.21, Accuracy: 0.95\n",
            "Finished Training\n"
          ],
          "name": "stdout"
        }
      ]
    },
    {
      "cell_type": "code",
      "metadata": {
        "id": "g1dEB07PD8IO"
      },
      "source": [
        "torch.save(myModel.state_dict(), '/content/esc_subset-60.pth')"
      ],
      "execution_count": 25,
      "outputs": []
    },
    {
      "cell_type": "code",
      "metadata": {
        "colab": {
          "base_uri": "https://localhost:8080/"
        },
        "id": "0xz2A84-BTAq",
        "outputId": "07b71838-dbc1-4c0c-ad2f-e674b82583b7"
      },
      "source": [
        "# ----------------------------\n",
        "# Inference(evaluation)\n",
        "# ----------------------------\n",
        "\n",
        "def evaluation (model, val_dl):\n",
        "  correct_prediction = 0\n",
        "  total_prediction = 0\n",
        "\n",
        "  # Disable gradient updates\n",
        "  with torch.no_grad():\n",
        "    for data in val_dl:\n",
        "      # Get the input features and target labels, and put them on the GPU\n",
        "      inputs, labels = data[0].to(device), data[1].to(device)\n",
        "\n",
        "      # Normalize the inputs\n",
        "      inputs_m, inputs_s = inputs.mean(), inputs.std()\n",
        "      inputs = (inputs - inputs_m) / inputs_s\n",
        "\n",
        "      # Get predictions\n",
        "      outputs = model(inputs)\n",
        "\n",
        "      # Get the predicted class with the highest score\n",
        "      _, prediction = torch.max(outputs,1)\n",
        "      # Count of predictions that matched the target label\n",
        "      correct_prediction += (prediction == labels).sum().item()\n",
        "      total_prediction += prediction.shape[0]\n",
        " \n",
        "  acc = correct_prediction/total_prediction\n",
        "  print(f'Accuracy: {acc:.2f}, Total items: {total_prediction}')\n",
        "\n",
        "# Run inference on trained model with the validation set\n",
        "evaluation(myModel, val_dl)"
      ],
      "execution_count": 30,
      "outputs": [
        {
          "output_type": "stream",
          "text": [
            "Accuracy: 0.80, Total items: 80\n"
          ],
          "name": "stdout"
        }
      ]
    },
    {
      "cell_type": "code",
      "metadata": {
        "id": "duouUlLA8K4h"
      },
      "source": [
        "y_pred = []\n",
        "y_true = []\n",
        "\n",
        "for data in val_dl:\n",
        "  inputs, labels = data[0].to(device), data[1].to(device)\n",
        "\n",
        "  inputs_m, inputs_s = inputs.mean(), inputs.std()\n",
        "  inputs = (inputs - inputs_m) / inputs_s\n",
        "\n",
        "  outputs = myModel(inputs)\n",
        "\n",
        "  outputs = (torch.max(torch.exp(outputs), 1)[1]).data.cpu().numpy()\n",
        "  y_pred.extend(outputs)\n",
        "\n",
        "  labels = labels.data.cpu().numpy()\n",
        "  y_true.extend(labels)"
      ],
      "execution_count": 31,
      "outputs": []
    },
    {
      "cell_type": "code",
      "metadata": {
        "colab": {
          "base_uri": "https://localhost:8080/",
          "height": 479
        },
        "id": "Org_bQnu_R5y",
        "outputId": "07a23e40-db66-411c-8cea-d814a6f9ff44"
      },
      "source": [
        "import numpy as np\n",
        "import matplotlib.pyplot as plt\n",
        "from sklearn.metrics import confusion_matrix\n",
        "import seaborn as sn\n",
        "\n",
        "classes = ('siren', 'clock_alarm', 'footsteps', 'crying_baby', 'door_knock',\n",
        "      'clapping', 'coughing', 'dog', 'engine', 'helicopter')\n",
        "\n",
        "cf_matrix = confusion_matrix(y_true, y_pred)\n",
        "df_cm = pd.DataFrame(cf_matrix/np.sum(cf_matrix) *10, index = [i for i in classes],\n",
        "                     columns = [i for i in classes])\n",
        "plt.figure(figsize = (12,7))\n",
        "sn.heatmap(df_cm, annot=True)\n",
        "plt.savefig('output.png')"
      ],
      "execution_count": 32,
      "outputs": [
        {
          "output_type": "display_data",
          "data": {
            "image/png": "[encoded data removed]",
            "text/plain": [
              "<Figure size 864x504 with 2 Axes>"
            ]
          },
          "metadata": {
            "tags": [],
            "needs_background": "light"
          }
        }
      ]
    },
    {
      "cell_type": "code",
      "metadata": {
        "id": "kXy8vBZXKB5f"
      },
      "source": [
        "sr = 44100\n",
        "channel = 2\n",
        "duration = 4000\n",
        "\n",
        "aud = AudioUtil.open('/content/ESC-50-master/audio/1-104089-B-22.wav')\n",
        "\n",
        "reaud = AudioUtil.resample(aud, sr)\n",
        "rechan = AudioUtil.rechannel(reaud, channel)\n",
        "dur_aud = AudioUtil.pad_trunc(rechan, duration)\n",
        "\n",
        "sgram = AudioUtil.spectro_gram(dur_aud, n_mels=64, n_fft=1024, hop_len=None)\n",
        "#return aug_sgram, class_id\n",
        "with torch.no_grad():\n",
        "  input = sgram.to(device)\n",
        "  output = myModel(input.unsqueeze(0))\n",
        "  prediction = torch.max(output,1)"
      ],
      "execution_count": 33,
      "outputs": []
    },
    {
      "cell_type": "code",
      "metadata": {
        "colab": {
          "base_uri": "https://localhost:8080/"
        },
        "id": "3Jv00PPV6AUm",
        "outputId": "35eb340e-aba4-4b4c-dc3e-496c59bcf538"
      },
      "source": [
        "output"
      ],
      "execution_count": 34,
      "outputs": [
        {
          "output_type": "execute_result",
          "data": {
            "text/plain": [
              "tensor([[-0.2782, -0.8931,  0.2008,  0.6786, -0.0713,  0.2317, -2.3266, -0.0340,\n",
              "         -0.2378,  0.5039]], device='cuda:0')"
            ]
          },
          "metadata": {
            "tags": []
          },
          "execution_count": 34
        }
      ]
    }
  ]
}